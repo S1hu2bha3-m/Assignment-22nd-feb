{
 "cells": [
  {
   "cell_type": "markdown",
   "id": "5d22abcf-d95e-4c18-a488-5cb07ee3d809",
   "metadata": {},
   "source": [
    "Q1. Create a Pandas Series that contains the following data: 4, 8, 15, 16, 23, and 42. Then, print the series."
   ]
  },
  {
   "cell_type": "markdown",
   "id": "c3066bb4-3e9a-4048-bcf1-8138ed4c2eec",
   "metadata": {},
   "source": [
    "import pandas as pd\n",
    "\n",
    "# Create a Pandas Series\n",
    "data = pd.Series([4, 8, 15, 16, 23, 42])\n",
    "\n",
    "# Print the Series\n",
    "print(data)"
   ]
  },
  {
   "cell_type": "markdown",
   "id": "b50cfac2-e0c7-4ce6-b242-c2bde21f7088",
   "metadata": {},
   "source": [
    "Q2. Create a variable of list type containing 10 elements in it, and apply pandas.Series function on the\n",
    "variable print it."
   ]
  },
  {
   "cell_type": "code",
   "execution_count": 1,
   "id": "e89b0d1a-cac7-4329-ae40-22a4e9564c07",
   "metadata": {},
   "outputs": [
    {
     "name": "stdout",
     "output_type": "stream",
     "text": [
      "0    1\n",
      "1    5\n",
      "2    8\n",
      "3    2\n",
      "4    7\n",
      "5    4\n",
      "6    9\n",
      "7    6\n",
      "8    3\n",
      "9    0\n",
      "dtype: int64\n"
     ]
    }
   ],
   "source": [
    "import pandas as pd\n",
    "\n",
    "my_list = [1, 5, 8, 2, 7, 4, 9, 6, 3, 0]\n",
    "\n",
    "data_series = pd.Series(my_list)\n",
    "\n",
    "print(data_series)"
   ]
  },
  {
   "cell_type": "markdown",
   "id": "16ec64f7-4748-4dc9-9066-29d33451113f",
   "metadata": {},
   "source": [
    "Q3. Create a Pandas DataFrame that contains the following data:\n",
    "Name\n",
    "Alice\n",
    "\n",
    "Bob\n",
    "\n",
    "Claire\n",
    "\n",
    "Age\n",
    "\n",
    "25\n",
    "\n",
    "30\n",
    "\n",
    "27\n",
    "\n",
    "Gender\n",
    "\n",
    "Female\n",
    "\n",
    "Male\n",
    "\n",
    "\n",
    "Then, print the DataFrame."
   ]
  },
  {
   "cell_type": "code",
   "execution_count": 2,
   "id": "d291bdda-3a65-4dd5-83f8-aaf507f9169f",
   "metadata": {},
   "outputs": [
    {
     "name": "stdout",
     "output_type": "stream",
     "text": [
      "     Name  Age  Gender\n",
      "0   Alice   25  Female\n",
      "1     Bob   30    Male\n",
      "2  Claire   27  Female\n"
     ]
    }
   ],
   "source": [
    "import pandas as pd\n",
    "\n",
    "data = {\n",
    "    \"Name\": [\"Alice\", \"Bob\", \"Claire\"],\n",
    "    \"Age\": [25, 30, 27],\n",
    "    \"Gender\": [\"Female\", \"Male\", \"Female\"]\n",
    "}\n",
    "\n",
    "df = pd.DataFrame(data)\n",
    "print(df)"
   ]
  },
  {
   "cell_type": "markdown",
   "id": "887a561c-f073-4d5f-ada5-978ce927fdf5",
   "metadata": {},
   "source": [
    "Q4. What is ‘DataFrame’ in pandas and how is it different from pandas.series? Explain with an example."
   ]
  },
  {
   "cell_type": "markdown",
   "id": "296e7dd7-44f6-4bf4-a551-7a1f68675e07",
   "metadata": {},
   "source": [
    "Ans. DataFrame:\n",
    "\n",
    "A two-dimensional labeled data structure with columns and rows.\n",
    "Can hold different data types in each column (e.g., text, numbers, booleans).\n",
    "Ideal for representing tabular data with multiple related variables.\n",
    "Series:\n",
    "\n",
    "A one-dimensional labeled array capable of holding a single data type.\n",
    "Useful for representing a single list of values or a collection of key-value pairs."
   ]
  },
  {
   "cell_type": "markdown",
   "id": "42c6ea1b-7a6f-43e6-83ec-1a82f27f7f5f",
   "metadata": {},
   "source": [
    "Q5. What are some common functions you can use to manipulate data in a Pandas DataFrame? Can\n",
    "you give an example of when you might use one of these functions?"
   ]
  },
  {
   "cell_type": "markdown",
   "id": "e8e0f7ed-a1fd-4185-a98c-e2a90e671152",
   "metadata": {},
   "source": [
    "Ans. head(n): Returns the first n rows of the DataFrame (default: 5). Useful for getting a quick glimpse at the beginning of your data.\n",
    "\n",
    "Example: You might use head() to preview your data after loading it from a CSV file to ensure it looks as expected.\n",
    "tail(n): Returns the last n rows of the DataFrame (default: 5). Useful for examining the end of your data.\n",
    "\n",
    "Example: You could use tail() to check for any unusual values or patterns at the end of your dataset.\n",
    "describe(): Calculates summary statistics (mean, median, standard deviation, etc.) for numerical columns. Great for understanding the central tendency and spread of your data."
   ]
  },
  {
   "cell_type": "markdown",
   "id": "f8b75e1b-d325-4713-8a16-fd5461953c8b",
   "metadata": {},
   "source": [
    "Q6. Which of the following is mutable in nature Series, DataFrame, Panel?"
   ]
  },
  {
   "cell_type": "markdown",
   "id": "a62288ef-8c3f-4b7a-b5a5-6077e326b1d4",
   "metadata": {},
   "source": [
    "Ans. In pandas, all three data structures - Series, DataFrame, and Panel - are mutable in nature. This means you can modify their contents (elements, values) after they are created.\n",
    "\n",
    "Here's a breakdown of their mutability:\n",
    "\n",
    "Series: You can change the values within a Series, add or remove elements, and modify its index.\n",
    "DataFrame: You can modify individual cells within a DataFrame, add or remove rows and columns, and change column names.\n",
    "Panel (deprecated): While Panels were previously considered mutable, they are now deprecated in newer versions of pandas (since version 0.25.0). If you're using a recent pandas version, it's recommended to use alternative approaches like multi-indexing for working with 3D data structures."
   ]
  },
  {
   "cell_type": "markdown",
   "id": "1ab3654a-a48c-49f1-a43e-61eb180dc106",
   "metadata": {},
   "source": [
    "Q7. Create a DataFrame using multiple Series. Explain with an example."
   ]
  },
  {
   "cell_type": "markdown",
   "id": "eadf0582-9823-4bac-92fa-1e9c92c94b7a",
   "metadata": {},
   "source": [
    "Ans.Here's how you can create a DataFrame using multiple Series in pandas, along with an explanation:"
   ]
  },
  {
   "cell_type": "code",
   "execution_count": 3,
   "id": "cdc67b0b-1d78-471f-b76e-c034a1b2624c",
   "metadata": {},
   "outputs": [],
   "source": [
    "\n",
    "names_series = pd.Series([\"Alice\", \"Bob\", \"Claire\"])\n",
    "age_series = pd.Series([25, 30, 27])\n",
    "city_series = pd.Series([\"New York\", \"London\", \"Paris\"])\n"
   ]
  },
  {
   "cell_type": "code",
   "execution_count": null,
   "id": "5b35d578-ff06-4324-9950-d4d705ff79f4",
   "metadata": {},
   "outputs": [],
   "source": []
  }
 ],
 "metadata": {
  "kernelspec": {
   "display_name": "Python 3 (ipykernel)",
   "language": "python",
   "name": "python3"
  },
  "language_info": {
   "codemirror_mode": {
    "name": "ipython",
    "version": 3
   },
   "file_extension": ".py",
   "mimetype": "text/x-python",
   "name": "python",
   "nbconvert_exporter": "python",
   "pygments_lexer": "ipython3",
   "version": "3.10.8"
  }
 },
 "nbformat": 4,
 "nbformat_minor": 5
}
